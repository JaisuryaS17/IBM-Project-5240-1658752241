{
  "nbformat": 4,
  "nbformat_minor": 0,
  "metadata": {
    "colab": {
      "provenance": [],
      "collapsed_sections": []
    },
    "kernelspec": {
      "name": "python3",
      "display_name": "Python 3"
    },
    "language_info": {
      "name": "python"
    }
  },
  "cells": [
    {
      "cell_type": "markdown",
      "source": [
        "# Basic Python"
      ],
      "metadata": {
        "id": "McSxJAwcOdZ1"
      }
    },
    {
      "cell_type": "markdown",
      "source": [
        "## 1. Split this string"
      ],
      "metadata": {
        "id": "CU48hgo4Owz5"
      }
    },
    {
      "cell_type": "code",
      "source": [
        "s = \"Hi there Sam!\""
      ],
      "metadata": {
        "id": "s07c7JK7Oqt-"
      },
      "execution_count": 1,
      "outputs": []
    },
    {
      "cell_type": "code",
      "source": [
        "s=s.split()\n",
        "print (s);"
      ],
      "metadata": {
        "id": "6mGVa3SQYLkb"
      },
      "execution_count": null,
      "outputs": []
    },
    {
      "cell_type": "markdown",
      "source": [
        "## 2. Use .format() to print the following string. \n",
        "\n",
        "### Output should be: The diameter of Earth is 12742 kilometers."
      ],
      "metadata": {
        "id": "GH1QBn8HP375"
      }
    },
    {
      "cell_type": "code",
      "source": [
        "planet = \"Earth\"\n",
        "diameter = 12742"
      ],
      "metadata": {
        "id": "_ZHoml3kPqic"
      },
      "execution_count": null,
      "outputs": []
    },
    {
      "cell_type": "code",
      "source": [
        "print( 'The diameter of {} is {} kilometers.' .format(planet,diameter));"
      ],
      "metadata": {
        "id": "HyRyJv6CYPb4"
      },
      "execution_count": null,
      "outputs": []
    },
    {
      "cell_type": "markdown",
      "source": [
        "## 3. In this nest dictionary grab the word \"hello\""
      ],
      "metadata": {
        "id": "KE74ZEwkRExZ"
      }
    },
    {
      "cell_type": "code",
      "source": [
        "d = {'k1':[1,2,3,{'tricky':['oh','man','inception',{'target':[1,2,3,'hello']}]}]}"
      ],
      "metadata": {
        "id": "fcVwbCc1QrQI"
      },
      "execution_count": null,
      "outputs": []
    },
    {
      "cell_type": "code",
      "source": [
        "d['k1'][3]['tricky'][3]['target'][3]"
      ],
      "metadata": {
        "id": "MvbkMZpXYRaw"
      },
      "execution_count": null,
      "outputs": []
    },
    {
      "cell_type": "markdown",
      "source": [
        "# Numpy"
      ],
      "metadata": {
        "id": "bw0vVp-9ddjv"
      }
    },
    {
      "cell_type": "code",
      "source": [
        "import numpy as np"
      ],
      "metadata": {
        "id": "LLiE_TYrhA1O"
      },
      "execution_count": null,
      "outputs": []
    },
    {
      "cell_type": "markdown",
      "source": [
        "## 4.1 Create an array of 10 zeros? \n",
        "## 4.2 Create an array of 10 fives?"
      ],
      "metadata": {
        "id": "wOg8hinbgx30"
      }
    },
    {
      "cell_type": "code",
      "source": [
        "import numpy as np\n",
        "array=np.zeros(10)\n",
        "print(\"An array of 10 zeros:\")\n",
        "print(array)"
      ],
      "metadata": {
        "id": "NHrirmgCYXvU"
      },
      "execution_count": null,
      "outputs": []
    },
    {
      "cell_type": "code",
      "source": [
        "import numpy as np\n",
        "array=np.ones(10)*5\n",
        "print(\"An array of 10 fives:\")\n",
        "print(array)"
      ],
      "metadata": {
        "id": "e4005lsTYXxx"
      },
      "execution_count": null,
      "outputs": []
    },
    {
      "cell_type": "markdown",
      "source": [
        "## 5. Create an array of all the even integers from 20 to 35"
      ],
      "metadata": {
        "id": "gZHHDUBvrMX4"
      }
    },
    {
      "cell_type": "code",
      "source": [
        "import numpy as np\n",
        "array=np.arange(20,36,2)\n",
        "print(\"Array of all the even integers from 20 to 35\")\n",
        "print(array)"
      ],
      "metadata": {
        "id": "oAI2tbU2Yag-"
      },
      "execution_count": null,
      "outputs": []
    },
    {
      "cell_type": "markdown",
      "source": [
        "## 6. Create a 3x3 matrix with values ranging from 0 to 8"
      ],
      "metadata": {
        "id": "NaOM308NsRpZ"
      }
    },
    {
      "cell_type": "code",
      "source": [
        "import numpy as np\n",
        "x =  np.arange(0, 9).reshape(3,3)\n",
        "print(x)"
      ],
      "metadata": {
        "id": "tOlEVH7BYceE"
      },
      "execution_count": null,
      "outputs": []
    },
    {
      "cell_type": "markdown",
      "source": [
        "## 7. Concatenate a and b \n",
        "## a = np.array([1, 2, 3]), b = np.array([4, 5, 6])"
      ],
      "metadata": {
        "id": "hQ0dnhAQuU_p"
      }
    },
    {
      "cell_type": "code",
      "source": [
        "import numpy as np\n",
        "\n",
        "arr1 = np.array([1, 2, 3])\n",
        "\n",
        "arr2 = np.array([4, 5, 6])\n",
        "\n",
        "arr = np.concatenate((arr1, arr2))\n",
        "\n",
        "print(arr)"
      ],
      "metadata": {
        "id": "rAPSw97aYfE0"
      },
      "execution_count": null,
      "outputs": []
    },
    {
      "cell_type": "markdown",
      "source": [
        "# Pandas"
      ],
      "metadata": {
        "id": "dlPEY9DRwZga"
      }
    },
    {
      "cell_type": "markdown",
      "source": [
        "## 8. Create a dataframe with 3 rows and 2 columns"
      ],
      "metadata": {
        "id": "ijoYW51zwr87"
      }
    },
    {
      "cell_type": "code",
      "source": [
        " import pandas as pd\n",
        "\n",
        "data = {\n",
        "  \"calories\": [420, 380,],\n",
        "  \"duration\": [50, 40]\n",
        "}\n",
        "\n",
        "df = pd.DataFrame(data, index = [\"day1\", \"day2\"])\n",
        "\n",
        "print(df) \n"
      ],
      "metadata": {
        "id": "T5OxJRZ8uvR7"
      },
      "execution_count": null,
      "outputs": []
    },
    {
      "cell_type": "code",
      "source": [
        "import pandas as pd\n",
        "\n",
        "data = {\n",
        "  \"calories\": [420, 380,],\n",
        "  \"duration\": [50, 40]\n",
        "}\n",
        "\n",
        "df = pd.DataFrame(data, index = [\"day1\", \"day2\"])\n",
        "\n",
        "print(df) \n"
      ],
      "metadata": {
        "id": "xNpI_XXoYhs0"
      },
      "execution_count": null,
      "outputs": []
    },
    {
      "cell_type": "markdown",
      "source": [
        "## 9. Generate the series of dates from 1st Jan, 2023 to 10th Feb, 2023"
      ],
      "metadata": {
        "id": "UXSmdNclyJQD"
      }
    },
    {
      "cell_type": "code",
      "source": [
        "// Java Program to Generate Desired Calendar\n",
        "// Without calendar.get() function or\n",
        "// Inputting the Year and the Month\n",
        "\n",
        "// Importing required classes\n",
        "import java.io.*;\n",
        "import java.util.Scanner;\n",
        "\n",
        "// Main class\n",
        "public class GFG {\n",
        "\n",
        "\t// Main driver method\n",
        "\tpublic static void main(String a[])\n",
        "\t{\n",
        "\n",
        "\t\t// Reading input by creating object of Scanner class\n",
        "\t\tScanner sc = new Scanner(System.in);\n",
        "\n",
        "\t\t// Display message only\n",
        "\t\tSystem.out.print(\"Enter the year : \");\n",
        "\n",
        "\t\t// Reading integer input value\n",
        "\t\tint yy = sc.nextInt();\n",
        "\n",
        "\t\t// Display message only\n",
        "\t\tSystem.out.print(\"Enter month : \");\n",
        "\n",
        "\t\t// Reading integer input value\n",
        "\t\tint mm = sc.nextInt();\n",
        "\n",
        "\t\tint d = 1;\n",
        "\t\tint m = 1;\n",
        "\t\tint y = 1;\n",
        "\t\tint dy = 1;\n",
        "\n",
        "\t\t// Storing data and months as input\n",
        "\t\tString day[] = { \"SUN\", \"MON\", \"TUE\", \"WED\",\n",
        "\t\t\t\t\t\t\"THU\", \"FRI\", \"SAT\" };\n",
        "\t\tString month[]\n",
        "\t\t\t= { \"JANUARY\", \"FEBRUARY\" };\n",
        "\n",
        "\t\t// Till condition holds true\n",
        "\t\twhile (true) {\n",
        "\n",
        "\t\t\tif (d == 1 && m == mm && y == yy) {\n",
        "\t\t\t\tbreak;\n",
        "\t\t\t}\n",
        "\n",
        "\t\t\tif (y % 4 == 0 && y % 100 != 0\n",
        "\t\t\t\t|| y % 100 == 0) {\n",
        "\t\t\t\tar[1] = 29;\n",
        "\t\t\t}\n",
        "\n",
        "\t\t\telse {\n",
        "\t\t\t\tar[1] = 28;\n",
        "\t\t\t}\n",
        "\t\t\tdy++;\n",
        "\t\t\td++;\n",
        "\n",
        "\t\t\tif (d > ar[m - 1]) {\n",
        "\t\t\t\tm++;\n",
        "\t\t\t\td = 1;\n",
        "\t\t\t}\n",
        "\n",
        "\t\t\tif (m > 12) {\n",
        "\t\t\t\tm = 1;\n",
        "\t\t\t\ty++;\n",
        "\t\t\t}\n",
        "\n",
        "\t\t\tif (dy == 7) {\n",
        "\t\t\t\tdy = 0;\n",
        "\t\t\t}\n",
        "\t\t}\n",
        "\n",
        "\t\tint c = dy;\n",
        "\n",
        "\t\tif (y % 4 == 0 && y % 100 != 0 || y % 400 == 0) {\n",
        "\t\t\tar[1] = 29;\n",
        "\t\t}\n",
        "\t\telse {\n",
        "\t\t\tar[1] = 28;\n",
        "\t\t}\n",
        "\n",
        "\t\t// Print the desired month of input year\n",
        "\t\tSystem.out.println(\"MONTH:\" + month[mm - 1]);\n",
        "\n",
        "\t\tfor (int k = 0; k < 7; k++) {\n",
        "\t\t\tSystem.out.print(\" \" + day[k]);\n",
        "\t\t}\n",
        "\n",
        "\t\tSystem.out.println();\n",
        "\n",
        "\t\tfor (int j = 1; j <= (ar[mm - 1] + dy); j++) {\n",
        "\t\t\tif (j > 6) {\n",
        "\t\t\t\tdy = dy % 6;\n",
        "\t\t\t}\n",
        "\t\t}\n",
        "\n",
        "\t\tint spaces = dy;\n",
        "\t\tif (spaces < 0)\n",
        "\t\t\tspaces = 6;\n",
        "\n",
        "\t\t// Printing the calendar\n",
        "\t\tfor (int i = 0; i < spaces; i++)\n",
        "\t\t\tSystem.out.print(\"\t \");\n",
        "\t\tfor (int i = 1; i <= ar[mm - 1]; i++) {\n",
        "\t\t\tSystem.out.printf(\" %4d \", i);\n",
        "\n",
        "\t\t\tif (((i + spaces) % 7 == 0)\n",
        "\t\t\t\t|| (i == ar[mm - 1]))\n",
        "\t\t\t\tSystem.out.println();\n",
        "\t\t}\n",
        "\t}\n",
        "}\n"
      ],
      "metadata": {
        "id": "dgyC0JhVYl4F"
      },
      "execution_count": null,
      "outputs": []
    },
    {
      "cell_type": "markdown",
      "source": [
        "## 10. Create 2D list to DataFrame\n",
        "\n",
        "lists = [[1, 'aaa', 22],\n",
        "         [2, 'bbb', 25],\n",
        "         [3, 'ccc', 24]]"
      ],
      "metadata": {
        "id": "ZizSetD-y5az"
      }
    },
    {
      "cell_type": "code",
      "source": [
        "lists = [[1, 'aaa', 22], [2, 'bbb', 25], [3, 'ccc', 24]]"
      ],
      "metadata": {
        "id": "_XMC8aEt0llB"
      },
      "execution_count": null,
      "outputs": []
    },
    {
      "cell_type": "code",
      "source": [
        "import pandas as pd\n",
        "\t\n",
        "# List1\n",
        "lst = [['aaa', 'aaa', 22]\n",
        "\t['bbb', 'bbb', 25]\n",
        "  ['ccc', 'ccc', 24]\n",
        "\t\n",
        "df = pd.DataFrame(lst, columns =['FName', 'LName', 'Age'],\n",
        "\t\t\t\t\t\t\t\t\t\tdtype = float)\n",
        "print(df)\n"
      ],
      "metadata": {
        "id": "knH76sDKYsVX"
      },
      "execution_count": null,
      "outputs": []
    }
  ]
}